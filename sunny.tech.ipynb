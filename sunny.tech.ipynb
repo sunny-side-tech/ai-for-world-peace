{
 "cells": [
  {
   "cell_type": "code",
   "execution_count": 3,
   "id": "initial_id",
   "metadata": {
    "collapsed": true,
    "ExecuteTime": {
     "end_time": "2023-10-06T23:53:39.176863Z",
     "start_time": "2023-10-06T23:53:39.172686Z"
    }
   },
   "outputs": [
    {
     "data": {
      "text/plain": "(array([0., 1., 2., 3., 4., 5., 6., 7., 8., 9.]),\n array([ 0,  2,  4,  6,  8, 10, 12, 14, 16, 18]),\n array([ 0.,  1.,  4.,  9., 16., 25., 36., 49., 64., 81.]))"
     },
     "execution_count": 3,
     "metadata": {},
     "output_type": "execute_result"
    }
   ],
   "source": [
    "import numpy as np\n",
    "\n",
    "m = np.arange(10, dtype=np.float64)\n",
    "f = np.arange(10) * 2\n",
    "a = np.arange(10) ** 2.\n",
    "\n",
    "m, f, a"
   ]
  },
  {
   "cell_type": "code",
   "execution_count": null,
   "outputs": [],
   "source": [
    "\n",
    "ddof = 1\n",
    "w = f * a\n",
    "\n",
    "v1 = np.sum(w)\n",
    "v2 = np.sum(w * a)\n",
    "m -= np.sum(m * w, axis=None, keepdims=True) / v1\n",
    "cov = np.dot(m * w, m.T) * v1 / (v1**2 - ddof * v2)\n"
   ],
   "metadata": {
    "collapsed": false
   },
   "id": "1c5b1fe7817dd520"
  },
  {
   "cell_type": "code",
   "execution_count": 4,
   "outputs": [
    {
     "data": {
      "text/plain": "array([[0, 1, 2],\n       [2, 1, 0]])"
     },
     "execution_count": 4,
     "metadata": {},
     "output_type": "execute_result"
    }
   ],
   "source": [
    "x = np.array([[0, 2], [1, 1], [2, 0]]).T\n",
    "x"
   ],
   "metadata": {
    "collapsed": false,
    "ExecuteTime": {
     "end_time": "2023-10-06T23:55:09.442425Z",
     "start_time": "2023-10-06T23:55:09.435373Z"
    }
   },
   "id": "34d1b46bcb4df6b8"
  },
  {
   "cell_type": "code",
   "execution_count": 5,
   "outputs": [
    {
     "data": {
      "text/plain": "array([[ 1., -1.],\n       [-1.,  1.]])"
     },
     "execution_count": 5,
     "metadata": {},
     "output_type": "execute_result"
    }
   ],
   "source": [
    "np.cov(x)\n"
   ],
   "metadata": {
    "collapsed": false,
    "ExecuteTime": {
     "end_time": "2023-10-06T23:55:25.547408Z",
     "start_time": "2023-10-06T23:55:25.542274Z"
    }
   },
   "id": "95b8a6987e0078c4"
  },
  {
   "cell_type": "code",
   "execution_count": 7,
   "outputs": [
    {
     "data": {
      "text/plain": "(array([[11.71      , -4.286     ],\n        [-4.286     ,  2.14413333]]),\n array([[-2.1 , -1.  ,  4.3 ],\n        [ 3.  ,  1.1 ,  0.12]]))"
     },
     "execution_count": 7,
     "metadata": {},
     "output_type": "execute_result"
    }
   ],
   "source": [
    "x = [-2.1, -1,  4.3]\n",
    "y = [3,  1.1,  0.12]\n",
    "\n",
    "X = np.stack((x, y), axis=0)\n",
    "\n",
    "np.cov(X), X"
   ],
   "metadata": {
    "collapsed": false,
    "ExecuteTime": {
     "end_time": "2023-10-06T23:56:13.471269Z",
     "start_time": "2023-10-06T23:56:13.453494Z"
    }
   },
   "id": "92d128b9167b0511"
  },
  {
   "cell_type": "code",
   "execution_count": null,
   "outputs": [],
   "source": [
    "asset_returns = \"\"\"\n",
    "Date,Asset1,Asset2,Asset3,Asset4\n",
    "2023-01-01,0.02,0.03,0.015,0.01\n",
    "2023-01-02,0.015,0.025,0.012,0.008\n",
    "2023-01-03,-0.01,-0.02,-0.005,-0.003\n",
    "2023-01-04,0.03,0.035,0.018,0.015\n",
    "2023-01-05,0.012,0.02,0.01,0.007\n",
    "\"\"\"\n",
    "\n",
    "import pandas as pd"
   ],
   "metadata": {
    "collapsed": false
   },
   "id": "f0b4968f5f1c1e48"
  }
 ],
 "metadata": {
  "kernelspec": {
   "display_name": "Python 3",
   "language": "python",
   "name": "python3"
  },
  "language_info": {
   "codemirror_mode": {
    "name": "ipython",
    "version": 2
   },
   "file_extension": ".py",
   "mimetype": "text/x-python",
   "name": "python",
   "nbconvert_exporter": "python",
   "pygments_lexer": "ipython2",
   "version": "2.7.6"
  }
 },
 "nbformat": 4,
 "nbformat_minor": 5
}
