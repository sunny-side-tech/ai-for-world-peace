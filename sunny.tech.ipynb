{
 "cells": [
  {
   "cell_type": "code",
   "execution_count": 3,
   "id": "initial_id",
   "metadata": {
    "ExecuteTime": {
     "end_time": "2023-10-06T23:53:39.176863Z",
     "start_time": "2023-10-06T23:53:39.172686Z"
    },
    "collapsed": true
   },
   "outputs": [
    {
     "data": {
      "text/plain": "(array([0., 1., 2., 3., 4., 5., 6., 7., 8., 9.]),\n array([ 0,  2,  4,  6,  8, 10, 12, 14, 16, 18]),\n array([ 0.,  1.,  4.,  9., 16., 25., 36., 49., 64., 81.]))"
     },
     "execution_count": 3,
     "metadata": {},
     "output_type": "execute_result"
    }
   ],
   "source": [
    "import numpy as np\n",
    "\n",
    "m = np.arange(10, dtype=np.float64)\n",
    "f = np.arange(10) * 2\n",
    "a = np.arange(10) ** 2.0\n",
    "\n",
    "m, f, a"
   ]
  },
  {
   "cell_type": "code",
   "execution_count": null,
   "id": "1c5b1fe7817dd520",
   "metadata": {
    "collapsed": false
   },
   "outputs": [],
   "source": [
    "ddof = 1\n",
    "w = f * a\n",
    "\n",
    "v1 = np.sum(w)\n",
    "v2 = np.sum(w * a)\n",
    "m -= np.sum(m * w, axis=None, keepdims=True) / v1\n",
    "cov = np.dot(m * w, m.T) * v1 / (v1**2 - ddof * v2)"
   ]
  },
  {
   "cell_type": "code",
   "execution_count": 4,
   "id": "34d1b46bcb4df6b8",
   "metadata": {
    "ExecuteTime": {
     "end_time": "2023-10-06T23:55:09.442425Z",
     "start_time": "2023-10-06T23:55:09.435373Z"
    },
    "collapsed": false
   },
   "outputs": [
    {
     "data": {
      "text/plain": "array([[0, 1, 2],\n       [2, 1, 0]])"
     },
     "execution_count": 4,
     "metadata": {},
     "output_type": "execute_result"
    }
   ],
   "source": [
    "x = np.array([[0, 2], [1, 1], [2, 0]]).T\n",
    "x"
   ]
  },
  {
   "cell_type": "code",
   "execution_count": 5,
   "id": "95b8a6987e0078c4",
   "metadata": {
    "ExecuteTime": {
     "end_time": "2023-10-06T23:55:25.547408Z",
     "start_time": "2023-10-06T23:55:25.542274Z"
    },
    "collapsed": false
   },
   "outputs": [
    {
     "data": {
      "text/plain": "array([[ 1., -1.],\n       [-1.,  1.]])"
     },
     "execution_count": 5,
     "metadata": {},
     "output_type": "execute_result"
    }
   ],
   "source": [
    "np.cov(x)"
   ]
  },
  {
   "cell_type": "code",
   "execution_count": 1,
   "id": "92d128b9167b0511",
   "metadata": {
    "ExecuteTime": {
     "end_time": "2023-11-05T20:39:58.634127Z",
     "start_time": "2023-11-05T20:39:58.546194Z"
    },
    "collapsed": false
   },
   "outputs": [
    {
     "ename": "NameError",
     "evalue": "name 'np' is not defined",
     "output_type": "error",
     "traceback": [
      "\u001b[0;31m---------------------------------------------------------------------------\u001b[0m",
      "\u001b[0;31mNameError\u001b[0m                                 Traceback (most recent call last)",
      "Cell \u001b[0;32mIn[1], line 4\u001b[0m\n\u001b[1;32m      1\u001b[0m x \u001b[38;5;241m=\u001b[39m [\u001b[38;5;241m-\u001b[39m\u001b[38;5;241m2.1\u001b[39m, \u001b[38;5;241m-\u001b[39m\u001b[38;5;241m1\u001b[39m,  \u001b[38;5;241m4.3\u001b[39m]\n\u001b[1;32m      2\u001b[0m y \u001b[38;5;241m=\u001b[39m [\u001b[38;5;241m3\u001b[39m,  \u001b[38;5;241m1.1\u001b[39m,  \u001b[38;5;241m0.12\u001b[39m]\n\u001b[0;32m----> 4\u001b[0m X \u001b[38;5;241m=\u001b[39m \u001b[43mnp\u001b[49m\u001b[38;5;241m.\u001b[39mstack((x, y), axis\u001b[38;5;241m=\u001b[39m\u001b[38;5;241m0\u001b[39m)\n\u001b[1;32m      6\u001b[0m np\u001b[38;5;241m.\u001b[39mcov(X), X\n",
      "\u001b[0;31mNameError\u001b[0m: name 'np' is not defined"
     ]
    }
   ],
   "source": [
    "x = [-2.1, -1, 4.3]\n",
    "y = [3, 1.1, 0.12]\n",
    "\n",
    "X = np.stack((x, y), axis=0)\n",
    "\n",
    "np.cov(X), X"
   ]
  },
  {
   "cell_type": "code",
   "execution_count": null,
   "id": "f0b4968f5f1c1e48",
   "metadata": {
    "collapsed": false
   },
   "outputs": [],
   "source": [
    "asset_returns = \"\"\"\n",
    "Date,Asset1,Asset2,Asset3,Asset4\n",
    "2023-01-01,0.02,0.03,0.015,0.01\n",
    "2023-01-02,0.015,0.025,0.012,0.008\n",
    "2023-01-03,-0.01,-0.02,-0.005,-0.003\n",
    "2023-01-04,0.03,0.035,0.018,0.015\n",
    "2023-01-05,0.012,0.02,0.01,0.007\n",
    "\"\"\""
   ]
  },
  {
   "cell_type": "code",
   "execution_count": 13,
   "id": "5641b7b176860ba2",
   "metadata": {
    "ExecuteTime": {
     "end_time": "2023-11-05T20:43:48.156872Z",
     "start_time": "2023-11-05T20:43:48.151893Z"
    },
    "collapsed": false
   },
   "outputs": [
    {
     "data": {
      "text/plain": "100.0"
     },
     "execution_count": 13,
     "metadata": {},
     "output_type": "execute_result"
    }
   ],
   "source": [
    "250000 / (10 * (50 * 5))"
   ]
  },
  {
   "cell_type": "code",
   "execution_count": null,
   "id": "9f1fb9a61e42bc81",
   "metadata": {
    "collapsed": false
   },
   "outputs": [],
   "source": []
  }
 ],
 "metadata": {
  "kernelspec": {
   "display_name": "Python 3",
   "language": "python",
   "name": "python3"
  },
  "language_info": {
   "codemirror_mode": {
    "name": "ipython",
    "version": 2
   },
   "file_extension": ".py",
   "mimetype": "text/x-python",
   "name": "python",
   "nbconvert_exporter": "python",
   "pygments_lexer": "ipython2",
   "version": "2.7.6"
  }
 },
 "nbformat": 4,
 "nbformat_minor": 5
}
